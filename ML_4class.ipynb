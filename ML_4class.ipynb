{
 "cells": [
  {
   "cell_type": "code",
   "execution_count": 5,
   "metadata": {},
   "outputs": [],
   "source": [
    "import pandas as pd\n",
    "\n",
    "df = pd.read_csv(r\"Reviews_withURL_preprocessing_v1.csv\")\n",
    "df = df[df[\"HelpfulnessDenominator\"] > 3]\n",
    "df.fillna(\"\", inplace=True)"
   ]
  },
  {
   "cell_type": "code",
   "execution_count": 6,
   "metadata": {},
   "outputs": [],
   "source": [
    "df = df[df[\"HelpfulnessNumerator\"] < df[\"HelpfulnessDenominator\"]]\n",
    "df[\"HelpfulnessRatio\"] = df[\"HelpfulnessNumerator\"] / df[\"HelpfulnessDenominator\"]"
   ]
  },
  {
   "cell_type": "code",
   "execution_count": 7,
   "metadata": {},
   "outputs": [],
   "source": [
    "def to_helpfulness_class(row):\n",
    "    threshold = 0.65\n",
    "    # if row[\"HelpfulnessRatio\"] > threshold:\n",
    "    #     return \"Helpful\"\n",
    "    # else:\n",
    "    #     return \"Unhelpful\"\n",
    "    if row[\"HelpfulnessRatio\"] > threshold and row[\"Sentiment\"] == 1:\n",
    "        return \"HelpfulPos\"\n",
    "    elif row[\"HelpfulnessRatio\"] > threshold and row[\"Sentiment\"] == -1:\n",
    "        return \"HelpfulNeg\"\n",
    "    elif row[\"HelpfulnessRatio\"] <= threshold and row[\"Sentiment\"] == 1:\n",
    "        return \"UnhelpfulPos\"\n",
    "    elif row[\"HelpfulnessRatio\"] <= threshold and row[\"Sentiment\"] == -1:\n",
    "        return \"UnhelpfulNeg\"\n",
    "\n",
    "df['HelpfulnessClass'] = df.apply(to_helpfulness_class, axis=1)"
   ]
  },
  {
   "cell_type": "code",
   "execution_count": 8,
   "metadata": {},
   "outputs": [
    {
     "data": {
      "text/plain": [
       "HelpfulPos      24502\n",
       "UnhelpfulPos    15748\n",
       "UnhelpfulNeg     8671\n",
       "HelpfulNeg       5426\n",
       "Name: HelpfulnessClass, dtype: int64"
      ]
     },
     "execution_count": 8,
     "metadata": {},
     "output_type": "execute_result"
    }
   ],
   "source": [
    "df['HelpfulnessClass'].value_counts()"
   ]
  },
  {
   "cell_type": "code",
   "execution_count": 9,
   "metadata": {},
   "outputs": [],
   "source": [
    "from sklearn.model_selection import train_test_split as TTS\n",
    "\n",
    "X = df.TextAdj\n",
    "y = df.HelpfulnessClass\n",
    "\n",
    "X_train, X_test, y_train, y_test = TTS(X, y, test_size=0.3, random_state=42)"
   ]
  },
  {
   "cell_type": "code",
   "execution_count": null,
   "metadata": {},
   "outputs": [],
   "source": []
  },
  {
   "cell_type": "code",
   "execution_count": 10,
   "metadata": {},
   "outputs": [],
   "source": [
    "from sklearn.feature_extraction.text import TfidfVectorizer\n",
    "\n",
    "vectorizer = TfidfVectorizer(ngram_range=(1, 1), min_df=0.0001)\n",
    "\n",
    "X_train_tfidf = vectorizer.fit_transform(X_train)\n",
    "X_test_tfidf = vectorizer.transform(X_test)"
   ]
  },
  {
   "cell_type": "code",
   "execution_count": 11,
   "metadata": {},
   "outputs": [],
   "source": [
    "from sklearn.ensemble import RandomForestClassifier\n",
    "import pickle\n",
    "\n",
    "rfc = RandomForestClassifier(random_state=42)\n",
    "rfc.fit(X_train_tfidf, y_train)\n",
    "\n",
    "model_name = '4class.sav'\n",
    "pickle.dump(rfc, open(model_name, 'wb'))"
   ]
  },
  {
   "cell_type": "code",
   "execution_count": 12,
   "metadata": {},
   "outputs": [],
   "source": [
    "model_name = '4class.sav'\n",
    "\n",
    "model = pickle.load(open(model_name, 'rb'))\n",
    "y_pred = model.predict(X_test_tfidf)"
   ]
  },
  {
   "cell_type": "code",
   "execution_count": 13,
   "metadata": {},
   "outputs": [
    {
     "name": "stdout",
     "output_type": "stream",
     "text": [
      "Accuracy:  0.663968107942349\n",
      "Confusion Matrix: \n",
      " [[ 601  563  226  234]\n",
      " [  48 6478  239  621]\n",
      " [  83  615 1394  465]\n",
      " [  63 2047  275 2353]]\n",
      "Classification Report: \n",
      "               precision    recall  f1-score   support\n",
      "\n",
      "  HelpfulNeg       0.76      0.37      0.50      1624\n",
      "  HelpfulPos       0.67      0.88      0.76      7386\n",
      "UnhelpfulNeg       0.65      0.55      0.59      2557\n",
      "UnhelpfulPos       0.64      0.50      0.56      4738\n",
      "\n",
      "    accuracy                           0.66     16305\n",
      "   macro avg       0.68      0.57      0.60     16305\n",
      "weighted avg       0.67      0.66      0.65     16305\n",
      "\n",
      "Recall Score:  0.663968107942349\n"
     ]
    }
   ],
   "source": [
    "from sklearn.metrics import accuracy_score, confusion_matrix, classification_report, recall_score\n",
    "\n",
    "print(\"Accuracy: \", accuracy_score(y_test, y_pred))\n",
    "print(\"Confusion Matrix: \\n\", confusion_matrix(y_test, y_pred))\n",
    "print(\"Classification Report: \\n\", classification_report(y_test, y_pred))\n",
    "print(\"Recall Score: \", recall_score(y_test, y_pred, average='weighted'))"
   ]
  }
 ],
 "metadata": {
  "kernelspec": {
   "display_name": "base",
   "language": "python",
   "name": "python3"
  },
  "language_info": {
   "codemirror_mode": {
    "name": "ipython",
    "version": 3
   },
   "file_extension": ".py",
   "mimetype": "text/x-python",
   "name": "python",
   "nbconvert_exporter": "python",
   "pygments_lexer": "ipython3",
   "version": "3.9.13"
  },
  "orig_nbformat": 4
 },
 "nbformat": 4,
 "nbformat_minor": 2
}
